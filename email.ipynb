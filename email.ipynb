{
 "cells": [
  {
   "cell_type": "markdown",
   "id": "5bfc4f46",
   "metadata": {},
   "source": [
    "# Sending E-mail"
   ]
  },
  {
   "cell_type": "code",
   "execution_count": 10,
   "id": "4610445b",
   "metadata": {},
   "outputs": [],
   "source": [
    "import smtplib,ssl"
   ]
  },
  {
   "cell_type": "code",
   "execution_count": 11,
   "id": "a22c537c",
   "metadata": {},
   "outputs": [],
   "source": [
    "from email.message import EmailMessage"
   ]
  },
  {
   "cell_type": "code",
   "execution_count": 23,
   "id": "850fc3d5",
   "metadata": {
    "scrolled": false
   },
   "outputs": [
    {
     "name": "stdout",
     "output_type": "stream",
     "text": [
      "email send\n"
     ]
    }
   ],
   "source": [
    "email = EmailMessage() ## creating obj\n",
    "email[\"from\"] = \"abc@gmail.com\"\n",
    "email[\"to\"] = \"xyz@gmail.com\"\n",
    "email[\"subject\"] = \"checking 2\"\n",
    "email.set_content('''Hi,\n",
    "    This is body of content''')\n",
    "context=ssl.create_default_context()\n",
    "\n",
    "with smtplib.SMTP(host=\"smtp.gmail.com\",port= 587) as server:\n",
    "    server.ehlo() ##server object\n",
    "    server.starttls(context=context)   ## used to send data b/w server & client\n",
    "    server.ehlo()\n",
    "    server.login(email[\"from\"], \"p@ssw0$d\")\n",
    "    server.send_message(email)\n",
    "    print(\"email send\")"
   ]
  },
  {
   "cell_type": "markdown",
   "id": "12f5c227",
   "metadata": {},
   "source": [
    "# Weather app"
   ]
  },
  {
   "cell_type": "code",
   "execution_count": 5,
   "id": "2a52a1b5",
   "metadata": {},
   "outputs": [
    {
     "ename": "ModuleNotFoundError",
     "evalue": "No module named 'Beautifulsoup'",
     "output_type": "error",
     "traceback": [
      "\u001b[1;31m---------------------------------------------------------------------------\u001b[0m",
      "\u001b[1;31mModuleNotFoundError\u001b[0m                       Traceback (most recent call last)",
      "\u001b[1;32m<ipython-input-5-93f8cd394bbf>\u001b[0m in \u001b[0;36m<module>\u001b[1;34m\u001b[0m\n\u001b[0;32m      1\u001b[0m \u001b[1;32mimport\u001b[0m \u001b[0mrequests\u001b[0m\u001b[1;33m\u001b[0m\u001b[1;33m\u001b[0m\u001b[0m\n\u001b[1;32m----> 2\u001b[1;33m \u001b[1;32mimport\u001b[0m \u001b[0mBeautifulsoup\u001b[0m\u001b[1;33m\u001b[0m\u001b[1;33m\u001b[0m\u001b[0m\n\u001b[0m",
      "\u001b[1;31mModuleNotFoundError\u001b[0m: No module named 'Beautifulsoup'"
     ]
    }
   ],
   "source": [
    "import requests\n",
    "import Beautifulsoup"
   ]
  },
  {
   "cell_type": "code",
   "execution_count": null,
   "id": "35955f68",
   "metadata": {},
   "outputs": [],
   "source": []
  },
  {
   "cell_type": "code",
   "execution_count": null,
   "id": "09204e45",
   "metadata": {},
   "outputs": [],
   "source": []
  },
  {
   "cell_type": "code",
   "execution_count": null,
   "id": "44456df9",
   "metadata": {},
   "outputs": [],
   "source": []
  },
  {
   "cell_type": "code",
   "execution_count": null,
   "id": "eeb3f778",
   "metadata": {},
   "outputs": [],
   "source": []
  },
  {
   "cell_type": "code",
   "execution_count": null,
   "id": "669f83ae",
   "metadata": {},
   "outputs": [],
   "source": []
  },
  {
   "cell_type": "code",
   "execution_count": null,
   "id": "393ba518",
   "metadata": {},
   "outputs": [],
   "source": []
  },
  {
   "cell_type": "code",
   "execution_count": null,
   "id": "38609f48",
   "metadata": {},
   "outputs": [],
   "source": []
  }
 ],
 "metadata": {
  "kernelspec": {
   "display_name": "Python 3",
   "language": "python",
   "name": "python3"
  },
  "language_info": {
   "codemirror_mode": {
    "name": "ipython",
    "version": 3
   },
   "file_extension": ".py",
   "mimetype": "text/x-python",
   "name": "python",
   "nbconvert_exporter": "python",
   "pygments_lexer": "ipython3",
   "version": "3.8.8"
  }
 },
 "nbformat": 4,
 "nbformat_minor": 5
}
